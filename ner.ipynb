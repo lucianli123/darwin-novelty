{
 "cells": [
  {
   "cell_type": "code",
   "execution_count": 1,
   "id": "48512992",
   "metadata": {},
   "outputs": [],
   "source": [
    "import pandas as pd\n",
    "import glob\n",
    "import re"
   ]
  },
  {
   "cell_type": "code",
   "execution_count": 2,
   "id": "f28d6e8b",
   "metadata": {},
   "outputs": [],
   "source": [
    "import collections"
   ]
  },
  {
   "cell_type": "code",
   "execution_count": 7,
   "id": "dfe15b70",
   "metadata": {},
   "outputs": [],
   "source": [
    "def clean(str):\n",
    "    ret=\" \".join(str.split())\n",
    "    ret=ret.strip()\n",
    "    return ret\n",
    "    "
   ]
  },
  {
   "cell_type": "code",
   "execution_count": 3,
   "id": "ce2b686a",
   "metadata": {},
   "outputs": [],
   "source": [
    "import spacy\n",
    "\n",
    "nlp = spacy.load(\"en_core_web_lg\")"
   ]
  },
  {
   "cell_type": "code",
   "execution_count": 3,
   "id": "8b36b71b",
   "metadata": {},
   "outputs": [],
   "source": [
    "bio=pd.read_csv(\"biology.csv\")"
   ]
  },
  {
   "cell_type": "code",
   "execution_count": 35,
   "id": "3665bbea",
   "metadata": {},
   "outputs": [
    {
     "ename": "IndexError",
     "evalue": "list index out of range",
     "output_type": "error",
     "traceback": [
      "\u001b[1;31m---------------------------------------------------------------------------\u001b[0m",
      "\u001b[1;31mIndexError\u001b[0m                                Traceback (most recent call last)",
      "Cell \u001b[1;32mIn[35], line 4\u001b[0m\n\u001b[0;32m      2\u001b[0m \u001b[38;5;28;01mfor\u001b[39;00m \u001b[38;5;28mid\u001b[39m \u001b[38;5;129;01min\u001b[39;00m bio[\u001b[38;5;124m\"\u001b[39m\u001b[38;5;124mid\u001b[39m\u001b[38;5;124m\"\u001b[39m]:\n\u001b[0;32m      3\u001b[0m     path\u001b[38;5;241m=\u001b[39mglob\u001b[38;5;241m.\u001b[39mglob(\u001b[38;5;124m'\u001b[39m\u001b[38;5;124mia_articles/\u001b[39m\u001b[38;5;124m'\u001b[39m\u001b[38;5;241m+\u001b[39m\u001b[38;5;28mid\u001b[39m\u001b[38;5;241m+\u001b[39m\u001b[38;5;124m'\u001b[39m\u001b[38;5;124m/*djvu.txt\u001b[39m\u001b[38;5;124m'\u001b[39m)\n\u001b[1;32m----> 4\u001b[0m     f \u001b[38;5;241m=\u001b[39m \u001b[38;5;28mopen\u001b[39m(\u001b[43mpath\u001b[49m\u001b[43m[\u001b[49m\u001b[38;5;241;43m0\u001b[39;49m\u001b[43m]\u001b[49m, \u001b[38;5;124m\"\u001b[39m\u001b[38;5;124mr\u001b[39m\u001b[38;5;124m\"\u001b[39m, encoding\u001b[38;5;241m=\u001b[39m\u001b[38;5;124m\"\u001b[39m\u001b[38;5;124mutf-8\u001b[39m\u001b[38;5;124m\"\u001b[39m)\n\u001b[0;32m      5\u001b[0m     text\u001b[38;5;241m=\u001b[39mf\u001b[38;5;241m.\u001b[39mread()\n\u001b[0;32m      6\u001b[0m     \u001b[38;5;28;01mif\u001b[39;00m \u001b[38;5;28mlen\u001b[39m(text)\u001b[38;5;241m<\u001b[39m\u001b[38;5;241m1000\u001b[39m:\n",
      "\u001b[1;31mIndexError\u001b[0m: list index out of range"
     ]
    }
   ],
   "source": [
    "names=[]\n",
    "for id in bio[\"id\"]:\n",
    "    path=glob.glob('ia_articles/'+id+'/*djvu.txt')\n",
    "    f = open(path[0], \"r\", encoding=\"utf-8\")\n",
    "    text=f.read()\n",
    "    if len(text)<1000:\n",
    "        continue\n",
    "    text = text.replace('\\r', '').replace('\\n', '')\n",
    "    text=re.sub(r'[^a-zA-Z. ]+', '', text)\n",
    "    text=text.lower()\n",
    "    out = open(\"clean/\"+id+\".txt\", \"w\")\n",
    "    out.write(text)\n",
    "    f.close() \n",
    "    n=100000\n",
    "    chunks = [text[i:i+n] for i in range(0, len(text), n)]\n",
    "    for c in chunks:\n",
    "        doc = nlp(c)\n",
    "        for ent in doc.ents:\n",
    "            if ent.label_==\"PERSON\":\n",
    "                names.append(ent.text)"
   ]
  },
  {
   "cell_type": "code",
   "execution_count": 36,
   "id": "3a0fde27",
   "metadata": {},
   "outputs": [],
   "source": [
    "file = open('bio_authors.txt','w')\n",
    "for item in names:\n",
    "\tfile.write(item+\"\\n\")\n",
    "file.close()"
   ]
  },
  {
   "cell_type": "code",
   "execution_count": 40,
   "id": "8f35e21c",
   "metadata": {},
   "outputs": [],
   "source": [
    "c = collections.Counter(names)"
   ]
  },
  {
   "cell_type": "code",
   "execution_count": 42,
   "id": "4d7b6035",
   "metadata": {},
   "outputs": [],
   "source": [
    "df = pd.DataFrame.from_dict(c, orient='index').reset_index()\n"
   ]
  },
  {
   "cell_type": "code",
   "execution_count": 48,
   "id": "1e12dc41",
   "metadata": {},
   "outputs": [],
   "source": [
    "df=df[df['index'].str.contains(\" \")]"
   ]
  },
  {
   "cell_type": "code",
   "execution_count": 54,
   "id": "140b192c",
   "metadata": {},
   "outputs": [],
   "source": [
    "df=df[df['index'].str.len()>10]"
   ]
  },
  {
   "cell_type": "code",
   "execution_count": 56,
   "id": "683f82d0",
   "metadata": {},
   "outputs": [],
   "source": [
    "df=df.sort_values(0, ascending=False)"
   ]
  },
  {
   "cell_type": "code",
   "execution_count": 57,
   "id": "ecee2311",
   "metadata": {},
   "outputs": [],
   "source": [
    "df.to_csv(\"bio_authors.csv\")"
   ]
  },
  {
   "cell_type": "code",
   "execution_count": 4,
   "id": "f927388f",
   "metadata": {},
   "outputs": [],
   "source": [
    "gen=pd.read_csv(\"general.csv\")"
   ]
  },
  {
   "cell_type": "code",
   "execution_count": null,
   "id": "a90aebf4",
   "metadata": {},
   "outputs": [],
   "source": [
    "names=[]\n",
    "file = open('gen_authors.txt','w')\n",
    "\n",
    "for id in gen[\"id\"]:\n",
    "    path=glob.glob('ia_articles/'+id+'/*djvu.txt')\n",
    "    try:\n",
    "        f = open(path[0], \"r\", encoding=\"utf-8\")\n",
    "    except:\n",
    "        continue\n",
    "    text=f.read()\n",
    "    if len(text)<1000:\n",
    "        continue\n",
    "    text = text.replace('\\r', '').replace('\\n', '')\n",
    "    text=re.sub(r'[^a-zA-Z. ]+', '', text)\n",
    "    text=text.lower()\n",
    "    out = open(\"clean/\"+id+\".txt\", \"w\")\n",
    "    out.write(text)\n",
    "    f.close()\n",
    "    n=100000\n",
    "    chunks = [text[i:i+n] for i in range(0, len(text), n)]\n",
    "    for c in chunks:\n",
    "        doc = nlp(c)\n",
    "        for ent in doc.ents:\n",
    "            if ent.label_==\"PERSON\":\n",
    "                name=clean(ent.text)\n",
    "                if len(name)>8 and \" \" in name:\n",
    "                    file.write(ent.text+\"\\n\")\n"
   ]
  },
  {
   "cell_type": "code",
   "execution_count": 6,
   "id": "7da9d06b",
   "metadata": {},
   "outputs": [],
   "source": [
    "file.close()"
   ]
  },
  {
   "cell_type": "code",
   "execution_count": null,
   "id": "ef0f9cbc",
   "metadata": {},
   "outputs": [],
   "source": [
    "pol=pd.read_csv(\"political.csv\")"
   ]
  },
  {
   "cell_type": "code",
   "execution_count": null,
   "id": "1546df4a",
   "metadata": {},
   "outputs": [],
   "source": [
    "names=[]\n",
    "file = open('pol_authors.txt','w')\n",
    "\n",
    "for id in pol[\"id\"]:\n",
    "    path=glob.glob('ia_articles/'+id+'/*djvu.txt')\n",
    "    try:\n",
    "        f = open(path[0], \"r\", encoding=\"utf-8\")\n",
    "    except:\n",
    "        continue\n",
    "    text=f.read()\n",
    "    if len(text)<1000:\n",
    "        continue\n",
    "    text = text.replace('\\r', '').replace('\\n', '')\n",
    "    text=re.sub(r'[^a-zA-Z. ]+', '', text)\n",
    "    text=text.lower()\n",
    "    out = open(\"clean/\"+id+\".txt\", \"w\")\n",
    "    out.write(text)\n",
    "    f.close()\n",
    "    n=100000\n",
    "    chunks = [text[i:i+n] for i in range(0, len(text), n)]\n",
    "    for c in chunks:\n",
    "        doc = nlp(c)\n",
    "        for ent in doc.ents:\n",
    "            if ent.label_==\"PERSON\":\n",
    "                name=clean(ent.text)\n",
    "                if len(name)>8 and \" \" in name:\n",
    "                    file.write(ent.text+\"\\n\")\n"
   ]
  },
  {
   "cell_type": "code",
   "execution_count": null,
   "id": "b0010757",
   "metadata": {},
   "outputs": [],
   "source": [
    "chem=pd.read_csv(\"chem.csv\")"
   ]
  },
  {
   "cell_type": "code",
   "execution_count": null,
   "id": "61b10558",
   "metadata": {},
   "outputs": [],
   "source": [
    "names=[]\n",
    "file = open('chem_authors.txt','w')\n",
    "\n",
    "for id in chem[\"id\"]:\n",
    "    path=glob.glob('ia_articles/'+id+'/*djvu.txt')\n",
    "    try:\n",
    "        f = open(path[0], \"r\", encoding=\"utf-8\")\n",
    "    except:\n",
    "        continue\n",
    "    text=f.read()\n",
    "    if len(text)<1000:\n",
    "        continue\n",
    "    text = text.replace('\\r', '').replace('\\n', '')\n",
    "    text=re.sub(r'[^a-zA-Z. ]+', '', text)\n",
    "    text=text.lower()\n",
    "    out = open(\"clean/\"+id+\".txt\", \"w\")\n",
    "    out.write(text)\n",
    "    f.close()\n",
    "    n=100000\n",
    "    chunks = [text[i:i+n] for i in range(0, len(text), n)]\n",
    "    for c in chunks:\n",
    "        doc = nlp(c)\n",
    "        for ent in doc.ents:\n",
    "            if ent.label_==\"PERSON\":\n",
    "                name=clean(ent.text)\n",
    "                if len(name)>8 and \" \" in name:\n",
    "                    file.write(ent.text+\"\\n\")"
   ]
  },
  {
   "cell_type": "code",
   "execution_count": null,
   "id": "14af882d",
   "metadata": {},
   "outputs": [],
   "source": []
  },
  {
   "cell_type": "code",
   "execution_count": null,
   "id": "9941e17d",
   "metadata": {},
   "outputs": [],
   "source": [
    "  "
   ]
  }
 ],
 "metadata": {
  "kernelspec": {
   "display_name": "Python 3 (ipykernel)",
   "language": "python",
   "name": "python3"
  },
  "language_info": {
   "codemirror_mode": {
    "name": "ipython",
    "version": 3
   },
   "file_extension": ".py",
   "mimetype": "text/x-python",
   "name": "python",
   "nbconvert_exporter": "python",
   "pygments_lexer": "ipython3",
   "version": "3.11.5"
  }
 },
 "nbformat": 4,
 "nbformat_minor": 5
}
