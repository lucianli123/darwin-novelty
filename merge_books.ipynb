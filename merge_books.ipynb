{
 "cells": [
  {
   "cell_type": "code",
   "execution_count": 33,
   "id": "9ab2cbbc",
   "metadata": {},
   "outputs": [],
   "source": [
    "import pandas as pd"
   ]
  },
  {
   "cell_type": "code",
   "execution_count": null,
   "id": "db05d313",
   "metadata": {},
   "outputs": [],
   "source": []
  },
  {
   "cell_type": "code",
   "execution_count": 34,
   "id": "fe8842a6",
   "metadata": {},
   "outputs": [],
   "source": [
    "d=pd.read_csv(\"darwin_corr_books.csv\")\n",
    "#d[\"subject\"]=[\"correspondents\"]*len(d[\"letter_name\"])"
   ]
  },
  {
   "cell_type": "code",
   "execution_count": 35,
   "id": "087daee6",
   "metadata": {},
   "outputs": [],
   "source": [
    "o=pd.read_csv(\"asiatic_auth_books.csv\")"
   ]
  },
  {
   "cell_type": "code",
   "execution_count": 36,
   "id": "c9753d39",
   "metadata": {},
   "outputs": [],
   "source": [
    "c=pd.read_csv(\"chem_auth_books.csv\")"
   ]
  },
  {
   "cell_type": "code",
   "execution_count": 37,
   "id": "e352d02f",
   "metadata": {},
   "outputs": [],
   "source": [
    "g=pd.read_csv(\"gen_auth_books.csv\")"
   ]
  },
  {
   "cell_type": "code",
   "execution_count": 38,
   "id": "f55a2322",
   "metadata": {},
   "outputs": [],
   "source": [
    "p=pd.read_csv(\"pol_auth_books.csv\")"
   ]
  },
  {
   "cell_type": "code",
   "execution_count": 39,
   "id": "95cc2766",
   "metadata": {},
   "outputs": [],
   "source": [
    "bio=pd.read_csv(\"bio_auth_books.csv\")\n",
    "bio2=pd.read_csv(\"bio_auth_books2.csv\")\n",
    "bio=pd.concat((bio,bio2),axis=0)\n",
    "bio[\"subject\"]=[\"biology\"]*len(bio[\"subject\"])\n"
   ]
  },
  {
   "cell_type": "code",
   "execution_count": 40,
   "id": "5aef1596",
   "metadata": {},
   "outputs": [],
   "source": [
    "d[\"subject\"]=\"correspondents\""
   ]
  },
  {
   "cell_type": "code",
   "execution_count": 41,
   "id": "924d24a7",
   "metadata": {},
   "outputs": [],
   "source": [
    "#d[\"letter_name\"]=d[\"subject\"]"
   ]
  },
  {
   "cell_type": "code",
   "execution_count": 42,
   "id": "f419b7ce",
   "metadata": {},
   "outputs": [],
   "source": [
    "all=pd.concat([d,o,c,g,p, bio])"
   ]
  },
  {
   "cell_type": "code",
   "execution_count": 43,
   "id": "cd0f086a",
   "metadata": {},
   "outputs": [],
   "source": [
    "all=all.drop_duplicates(subset=[\"title\", \"subject\"])"
   ]
  },
  {
   "cell_type": "code",
   "execution_count": 44,
   "id": "ff5fcc68",
   "metadata": {},
   "outputs": [],
   "source": [
    "all.to_csv(\"sub_dup_books.csv\")"
   ]
  },
  {
   "cell_type": "code",
   "execution_count": 49,
   "id": "8292f899",
   "metadata": {},
   "outputs": [
    {
     "data": {
      "text/plain": [
       "author\n",
       "Karl Baedeker (Firm)                                         392\n",
       "Arthur G Butler                                              366\n",
       "James Booth Papers                                           331\n",
       "Oldfield Thomas                                              328\n",
       "J E Gray                                                     324\n",
       "                                                            ... \n",
       "Stewart, George B. (George Black), 1854-1932, ed               1\n",
       "Stewart, George Black, 1854-1932, [from old catalog] ed        1\n",
       "Stewart, George Black, 1854-1932, ed                           1\n",
       "['Stewart, George, 1848-1906', 'Royal Society of Canada']      1\n",
       "G. STEWARDSON BRADY                                            1\n",
       "Name: count, Length: 75686, dtype: int64"
      ]
     },
     "execution_count": 49,
     "metadata": {},
     "output_type": "execute_result"
    }
   ],
   "source": [
    "all[\"author\"].value_counts()"
   ]
  },
  {
   "cell_type": "code",
   "execution_count": null,
   "id": "2045cc7b",
   "metadata": {},
   "outputs": [],
   "source": []
  }
 ],
 "metadata": {
  "kernelspec": {
   "display_name": "Python 3 (ipykernel)",
   "language": "python",
   "name": "python3"
  },
  "language_info": {
   "codemirror_mode": {
    "name": "ipython",
    "version": 3
   },
   "file_extension": ".py",
   "mimetype": "text/x-python",
   "name": "python",
   "nbconvert_exporter": "python",
   "pygments_lexer": "ipython3",
   "version": "3.11.5"
  }
 },
 "nbformat": 4,
 "nbformat_minor": 5
}
