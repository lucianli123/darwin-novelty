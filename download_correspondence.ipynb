{
 "cells": [
  {
   "cell_type": "code",
   "execution_count": 1,
   "id": "7cd0d5d2",
   "metadata": {},
   "outputs": [],
   "source": [
    "import pandas as pd\n",
    "from bs4 import BeautifulSoup\n"
   ]
  },
  {
   "cell_type": "code",
   "execution_count": 2,
   "id": "2f2ad21f",
   "metadata": {},
   "outputs": [],
   "source": [
    "with open(\"addressee.txt\") as f:\n",
    "    data = f.read()"
   ]
  },
  {
   "cell_type": "code",
   "execution_count": 3,
   "id": "103acabe",
   "metadata": {},
   "outputs": [],
   "source": [
    "soup = BeautifulSoup(data)\n"
   ]
  },
  {
   "cell_type": "code",
   "execution_count": 4,
   "id": "70c19de1",
   "metadata": {},
   "outputs": [],
   "source": [
    "subc = soup.find_all('a')\n"
   ]
  },
  {
   "cell_type": "code",
   "execution_count": 5,
   "id": "e273fa0f",
   "metadata": {},
   "outputs": [],
   "source": [
    "letters=[]"
   ]
  },
  {
   "cell_type": "code",
   "execution_count": 6,
   "id": "39d279cb",
   "metadata": {},
   "outputs": [],
   "source": [
    "for a in subc:\n",
    "    letters.append(a.text)"
   ]
  },
  {
   "cell_type": "code",
   "execution_count": 7,
   "id": "bde73c87",
   "metadata": {},
   "outputs": [],
   "source": [
    "temp=set(letters)"
   ]
  },
  {
   "cell_type": "code",
   "execution_count": 8,
   "id": "e4702421",
   "metadata": {},
   "outputs": [
    {
     "name": "stdout",
     "output_type": "stream",
     "text": [
      "Done\n"
     ]
    }
   ],
   "source": [
    "with open(\"darwin_letter_people.txt\", 'w') as fp:\n",
    "    for item in temp:\n",
    "        # write each item on a new line\n",
    "        fp.write(\"%s\\n\" % item)\n",
    "    print('Done')"
   ]
  },
  {
   "cell_type": "code",
   "execution_count": 9,
   "id": "4c9cd7c0",
   "metadata": {},
   "outputs": [],
   "source": [
    "from internetarchive import get_item, download, search_items\n"
   ]
  },
  {
   "cell_type": "code",
   "execution_count": 16,
   "id": "e699efd5",
   "metadata": {},
   "outputs": [
    {
     "name": "stdout",
     "output_type": "stream",
     "text": [
      "40\n",
      "['biostor-281164', 'Stoliczka, Ferdinand', 'Notes on Some Indian and Burmese Ophidians,', 'Ferdinand Stoliczka', 1871]\n",
      "80\n",
      "['reliquidiluvian00buckgoog', 'Buckland, William', 'Reliquiæ Diluvianæ: Or Observations on the Organic Remains Contained in Caves, Fissures, and ...', 'William Buckland', 1824]\n",
      "120\n",
      "['cu31924000277420', 'Ransome, Frederick', 'The language of medicine; a manual giving the origin, etymology, pronunciation, and meaning of the technical terms found in medical literature', 'Campbell, Frederick Ransome, 1860-1888', 1895]\n",
      "160\n",
      "['representativem00edwagoog', 'Edwards, Ernest', 'Representative Men in Literature, Science, and Art', 'Edward Walford , Ernest Edwards', 1868]\n",
      "200\n",
      "['lehrbuchderphar01wigagoog', 'Wigand, Albert', 'Lehrbuch der Pharmakognosie mit Besondorer Rücksicht auf die Pharmacopoca ...', 'Albert Wigand', 1887]\n",
      "240\n",
      "['biostor-90511', 'Higgins, H. H.', 'On the Sphærobolus stellatus', 'H H Higgins', 1857]\n",
      "280\n",
      "['b21944039', 'Fleming, J. M.', 'Notes on the carbolic treatment of leprosy', ['Fleming, J. M', 'Royal College of Physicians of Edinburgh'], 1889]\n",
      "320\n",
      "['paper-doi-10_1098_rspl_1870_0024', 'Jeffreys, J. G.', \"Report on Deep-Sea Researches Carried on during the Months of July, August, and September 1870, in H.M. Surveying-Ship 'Porcupine'\", 'W. B. Carpenter; J. G. Jeffreys', 1870]\n",
      "360\n",
      "['tariffsunitedst00longoog', 'Playfair, Lyon', 'The tariffs of the United States in relation to free trade', ['Playfair, Lyon Playfair, 1st baron, 1818-1898. [from old catalog]', 'Cobden club. [from old catalog]', 'YA Pamphlet Collection (Library of Congress) DLC [from old catalog]'], 1890]\n",
      "400\n",
      "['modernirelandit01sigegoog', 'Sigerson, George', 'Modern Ireland: Its Vital Questions, Secret Societies and Government', 'George Sigerson', 1869]\n",
      "440\n",
      "['paper-doi-10_1093_mnras_6_14_203a', 'Smyth, W. H.', 'John Washington, Esq. Capt. R.N. F.R.S., and Ed win Dunkin, Esq., of the Royal Observatory, Greenwich, were balloted for, and duly elected Fellows of the Society', 'W. H. Smyth', 1845]\n",
      "480\n",
      "['sterreichundung00pricgoog', 'Price, Bonamy', 'Österreich und Ungarn', 'Bonamy Price', 1862]\n",
      "520\n",
      "['throughbarrenlan00tyrr', 'Williams, James', 'Through the Barren Lands : an exploration line of 3,200 miles / by J.W. Tyrrell.', ['Tyrrell, J. W. (James Williams), 1863-1945', 'Tyrrell, J. W. (James Williams), 1863-1945., (association)'], 1896]\n",
      "560\n",
      "['paper-doi-10_1098_rstb_1892_0009', 'Clarke, C. B.', 'On Biologic Regions and Tabulation Areas', 'C. B. Clarke', 1892]\n",
      "600\n",
      "['cua_000494', 'Boardman, A. F.', \"A.F. Boardman & Co.'s Catalogue\", 'A. F. Boardman & Co.', 1893]\n",
      "640\n",
      "['usesanimalsinre00lankgoog', 'Lankester, Edwin', 'The uses of animals in relation to industry of man, lects', 'Edwin Lankester', 1876]\n",
      "680\n",
      "['recherchesmicro00hartgoog', 'Harting, Pieter', 'Recherches micrométriques sur le développement des tissus et des organes du corps humain ...', 'Pieter Harting', 1845]\n",
      "720\n",
      "['paper-doi-10_1098_rspl_1872_0052', 'Brodie, B. C., Sr', 'Note on the Synthesis of Marsh-Gas and Formic Acid, and on the Electric Decomposition of Carbonic Oxide', 'B. C. Brodie', 1872]\n",
      "760\n",
      "['romansonrivierar00hall', 'Hall, W. H.', 'The Romans on the Riviera and the Rhone; a sketch of the conquest of Liguria and the Roman province', 'Hall, W. H. (William Henry), b. 1837', 1898]\n",
      "800\n",
      "['jstor-592247', 'Whitney, W. D.', 'Reply to the Strictures of Prof. Weber upon an Essay Respecting the Asterismal System of the Hindus, Arabs, and Chinese', 'Whitney, W. D.', 1866]\n",
      "840\n",
      "['traitdezoologie04delagoog', 'Delage, Yves', 'Traité de zoologie concrète: leçons professées à la Sorbonne', 'Yves ( Delage', 1899]\n",
      "880\n",
      "['geschictederma00zeutrich', 'Zeuthen, H. G.', 'Geschichte der Mathematik im Altertum und Mittelalter', 'Zeuthen, H. G. (Hieronymus Georg), 1839-1920', 1896]\n",
      "920\n",
      "['trattatoteorico00boccgoog', 'Boccardo, Gerolamo', 'Trattato teorico-pratico di economia politica', 'Gerolamo Boccardo', 1853]\n",
      "960\n",
      "['amanualhumanana00swangoog', 'Mumford, John', 'A manual of human anatomy arranged for second-year students', 'Swan, John M. (John Mumford), 1870-1949', 1898]\n",
      "1000\n",
      "['biostor-108653', 'Goodacre, F. B.', '10. On the Question of the Identity of Species of the Common Domestic and the Chinese Goose', 'F B Goodacre', 1879]\n",
      "1040\n",
      "['storyofarlington00osbo', 'Ball, John', 'The story of Arlington. A history and description of the estate and National Cemetery, containing a complete list of officers of the Army and Navy interred there, with biographical sketches of heroes of the Civil and Spanish Wars, and notable memorial addresses and poems', 'Osborne, John Ball, 1868-', 1899]\n",
      "1080\n",
      "['paper-doi-10_1098_rstb_1900_0003', 'Gilbert, J. H.', 'Agricultural, Botanical, and Chemical Results of Experiments on the Mixed Herbage of Permanent Grass-Land, Conducted for Many Years in Succession on the Same Land. Part III. The Chemical Results. Section I', 'J. B. Lawes; J. H. Gilbert', 1900]\n",
      "1120\n",
      "['principesdephil01saingoog', 'Geoffroy Saint-Hilaire, Isidore', 'Principes de philosophie zoologique', 'Isidore Geoffroy Saint-Hilaire, Étienne Geoffroy Saint-Hilaire', 1830]\n",
      "1160\n",
      "['whatsocialclass02sumngoog', 'Graham, William', 'What Social Classes Owe to Each Other', 'William Graham Sumner', 1884]\n",
      "1200\n",
      "['sircharleslyellg00rams', 'Ramsay, A. C.', 'Sir Charles Lyell and the glacial theory of lake-basins', 'Ramsay, A. C. (Andrew Crombie), Sir', 1865]\n",
      "1240\n",
      "['dienutzpflanzen01heldgoog', 'Heldreich, Theodor von', 'Die Nutzpflanzen Griechenlands: Mit besonderer Berücksichtigung der neugriechischen und ...', 'Theodor von Heldreich', 1862]\n",
      "1280\n",
      "['paper-doi-10_1098_rspl_1854_0010', 'Hooker, J. D.', 'On the Structure and Affinities of Trigonocarpon (A Fossil Fruit of the Coal-Measures)', 'J. D. Hooker', 1854]\n",
      "1320\n",
      "['poems01moorgoog', 'Moore, David', 'The Poems', 'David Moore', 1886]\n",
      "1360\n",
      "['thechurchhermini00vanduoft', 'Jackson, Henry', 'The church, her ministry and sacraments : lectures delivered on the L. P. Stone Foundation at Princeton Theological Seminary in 1890', 'Van Dyke, Henry Jackson, 1822-1891', 1890]\n",
      "1400\n",
      "['williamofmalmesb47will', 'Allen, John', \"William of Malmesbury's Chronicle of the kings of England : from the earliest period to the reign of King Stephen\", ['William, of Malmesbury, ca. 1090-1143', 'Sharpe, John, 1769-1859', 'Giles, J. A. (John Allen), 1808-1884'], 1847]\n",
      "1440\n",
      "['nineyearsinnipon00faulrich', 'Faulds, Henry', 'Nine years in Nipon. Sketches of Japanese life and manners', 'Faulds, Henry, 1843-1930', 1888]\n",
      "1480\n",
      "['zoologyvoyagehm00admigoog', 'Richardson, John', 'The Zoology of the Voyage of H.M.S. Sulphur: Under the Command of Captain Sir Edward Belcher ...', 'Richard Brinsley Hinds, John Gould , John Edward Gray , Sir John Richardson , Great Britain Admiralty', 1844]\n",
      "1520\n",
      "['physiologischep00habegoog', 'Haberlandt, Gottlieb', 'Physiologische Pflanzenanatomie', 'Haberlandt, Gottlieb, 1854-1945', 1896]\n",
      "1560\n",
      "['onvarietiesprop01coutgoog', 'Le Couteur, John', 'On the varieties, properties and classification of wheat', 'John Le Couteur', 1836]\n",
      "1600\n",
      "['researchesandex00londgoog', 'Rolleston, George', 'Researches and Excavations Carried on in an Ancient Cemetery at Frilford, Near Abingdon, Berks ...', 'George Rolleston , Society of Antiquaries of London', 1870]\n",
      "1640\n",
      "['paper-doi-10_1098_rspl_1865_0068', 'Richardson, B. W.', 'An Inquiry into the Possibility of Restoring the Life of Warm-Blooded Animals in Certain Cases Where the Respiration, the Circulation, and the Ordinary Manifestations of Organic Motion Are Exhausted or Have Ceased', 'B. W. Richardson', 1865]\n",
      "1680\n",
      "['jstor-1624345', 'Todd, J. E.', 'Volcanic Dust in Southwestern Nebraska and in South Dakota', 'J. E. Todd', 1897]\n",
      "1720\n",
      "['oldaliortravels00osmagoog', 'Osmaston, John', 'Old Ali; or, Travels long ago ... : With illustrations', 'OSMASTON, John', 1881]\n",
      "1760\n",
      "['judicialchronic00gibbgoog', 'Gibbs, George', 'The Judicial Chronicle: Being a List of the Judges of the Courts of Common ...', 'George Gibbs', 1834]\n",
      "1800\n",
      "['waltersavageland02fors', 'Francis, George', 'Walter Savage Landor : a biography', ['Forster, John, 1812-1876', 'Savage-Armstrong, George Francis, 1845-1906, former owner'], 1869]\n",
      "1840\n",
      "['laterreurblanch00houzgoog', 'Houzeau, J.-C.', 'La terreur blanche au Texas et mon evasion', 'J. C. Houzeau', 1862]\n"
     ]
    },
    {
     "name": "stdout",
     "output_type": "stream",
     "text": [
      "1880\n",
      "['whatshallwethin01clargoog', 'Newton, William', 'What Shall We Think of Christianity?: The Levering Lectures Before the Johns ...', 'William Newton Clarke', 1899]\n",
      "1920\n",
      "['culturedemandedb0000elyo', 'Youmans, E. L.', 'the culture demanded by modern life', 'e. l. youmans', 1897]\n",
      "1960\n",
      "['paper-doi-10_1038_042429a0', 'McIntosh, W. C.', 'On the Capture of Young (Immature) Fishes and what Constitutes an Immature Fish', 'W. C. MCINTOSH', 1890]\n",
      "2000\n",
      "['biostor-90743', 'Daniell, W. F.', 'XX.—Notes on some Chinese condiments obtained from the Xanthoxylaceæ', 'W F Daniell', 1862]\n",
      "2040\n",
      "['generalglaciatio01kina', 'Close, M. H.', 'The general glaciation of Iar-Connaught and its neighborhood, in the counties of Galway and Mayo', ['Kinahan, G. Henry (George Henry), 1829-1908', 'Close, M. H., joint author'], 1872]\n",
      "2080\n",
      "['toursinscotland00pocogoog', 'Bishop, Richard', 'Tours in Scotland 1747, 1750, 1760', ['Pococke, Richard, bishop of Meath, 1704-1765', 'Kemp, Daniel William'], 1887]\n",
      "2120\n",
      "['illustratedlondo02bick_0', 'Payne, A. H.', 'Illustrated London, or, A series of views in the British metropolis and its vicinity', ['Bicknell, W. I., author', 'Payne, A. H. (Albert Henry), 1812-1902, illustrator'], 1847]\n"
     ]
    }
   ],
   "source": [
    "ia_books=[]\n",
    "count=0\n",
    "for n in temp:\n",
    "    count+=1\n",
    "    if count%40==0:\n",
    "        print(count)\n",
    "        try:\n",
    "            print(ia_books[-1])\n",
    "        except:\n",
    "            continue\n",
    "    if count>100000:\n",
    "        break\n",
    "    queries=[n]\n",
    "    try:\n",
    "        rev=n.split(\", \")[1]+\" \"+n.split(\", \")[0]\n",
    "        queries.append(rev.strip())\n",
    "    except:\n",
    "        continue\n",
    "    for q in queries:\n",
    "        search=\"creator:(\\\"\"+q+\"\\\") and date:[1800-01-1 TO 1900-01-1]\"\n",
    "        res=search_items(search, fields=[\"title\", \"creator\", \"year\", \"subject\"])\n",
    "        try:\n",
    "            num=len(res)\n",
    "        except:\n",
    "            continue\n",
    "        if num<1000: \n",
    "            \n",
    "            try:\n",
    "                for i in res:\n",
    "\n",
    "                    try:\n",
    "                        year=int(i[\"year\"])\n",
    "                    except:\n",
    "                        year=0\n",
    "                    try:\n",
    "                        author=i[\"creator\"]\n",
    "                    except:\n",
    "                        author=\"\"\n",
    "                    ia_books.append([i[\"identifier\"], n, i[\"title\"], author,year])\n",
    "            except:\n",
    "                continue\n"
   ]
  },
  {
   "cell_type": "code",
   "execution_count": 17,
   "id": "477bc6a7",
   "metadata": {
    "scrolled": true
   },
   "outputs": [],
   "source": [
    "ia=pd.DataFrame(ia_books)\n",
    "ia.columns=[\"id\", \"letter_name\", \"title\", \"author\", \"date\"]\n",
    "ia.to_csv(\"darwin_corr_books.csv\")"
   ]
  },
  {
   "cell_type": "code",
   "execution_count": 19,
   "id": "22206bd0",
   "metadata": {},
   "outputs": [],
   "source": [
    "bio=pd.read_csv(\"bio_auth_books.csv\")\n",
    "bio2=pd.read_csv(\"bio_auth_books2.csv\")\n",
    "bio=pd.concat((bio,bio2),axis=0)"
   ]
  },
  {
   "cell_type": "code",
   "execution_count": 28,
   "id": "4c835318",
   "metadata": {},
   "outputs": [
    {
     "data": {
      "text/plain": [
       "40117"
      ]
     },
     "execution_count": 28,
     "metadata": {},
     "output_type": "execute_result"
    }
   ],
   "source": [
    "len(ia[\"id\"])"
   ]
  },
  {
   "cell_type": "code",
   "execution_count": 29,
   "id": "01da19ee",
   "metadata": {},
   "outputs": [],
   "source": [
    "ids=ia[\"id\"]\n",
    "ids=set(ids).difference( set(bio[\"id\"]))\n"
   ]
  },
  {
   "cell_type": "code",
   "execution_count": null,
   "id": "9f4b40b3",
   "metadata": {},
   "outputs": [],
   "source": [
    "for b in ids:\n",
    "    try:\n",
    "        download(b, verbose=False, glob_pattern='*txt', destdir=\"bio/\")\n",
    "    except:\n",
    "        continue"
   ]
  },
  {
   "cell_type": "code",
   "execution_count": null,
   "id": "cc936db9",
   "metadata": {},
   "outputs": [],
   "source": []
  }
 ],
 "metadata": {
  "kernelspec": {
   "display_name": "Python 3 (ipykernel)",
   "language": "python",
   "name": "python3"
  },
  "language_info": {
   "codemirror_mode": {
    "name": "ipython",
    "version": 3
   },
   "file_extension": ".py",
   "mimetype": "text/x-python",
   "name": "python",
   "nbconvert_exporter": "python",
   "pygments_lexer": "ipython3",
   "version": "3.11.5"
  }
 },
 "nbformat": 4,
 "nbformat_minor": 5
}
